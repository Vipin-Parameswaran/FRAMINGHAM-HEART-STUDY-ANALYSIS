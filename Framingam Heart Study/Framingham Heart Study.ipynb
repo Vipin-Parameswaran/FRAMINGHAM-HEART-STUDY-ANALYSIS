{
 "cells": [
  {
   "cell_type": "code",
   "execution_count": 174,
   "id": "866da67d-fff6-42de-a373-54638d8956dc",
   "metadata": {},
   "outputs": [],
   "source": [
    "import numpy as np\n",
    "import pandas as pd\n",
    "import matplotlib.pyplot as plt\n",
    "import seaborn as sns\n",
    "from numpy import mean\n",
    "from sklearn.model_selection import train_test_split\n",
    "from sklearn.datasets import make_classification\n",
    "from sklearn.model_selection import cross_val_score\n",
    "from sklearn.model_selection import RepeatedStratifiedKFold\n",
    "from sklearn.tree import DecisionTreeClassifier\n",
    "from imblearn.pipeline import Pipeline\n",
    "from imblearn.under_sampling import RandomUnderSampler\n",
    "from imblearn.over_sampling import RandomOverSampler"
   ]
  },
  {
   "cell_type": "markdown",
   "id": "19d7f137-c854-4d5b-bd6b-8c4196528b66",
   "metadata": {},
   "source": [
    "### PROJECT OVERVIEW\n",
    "\n",
    "Cardiovascular disease is common in the general population, affecting the majority of adults. It includes:\n",
    "\n",
    "Coronary heart disease (CHD): Myocardial infarction (MI), angina pectoris, heart failure (HF), and coronary death.\n",
    "Cerebrovascular disease, stroke and transient ischemic attack (TIA).\n",
    "Peripheral arterial disease, intermittent claudication and significant limb ischemia.\n",
    "Aortic disease: Aortic atherosclerosis, thoracic aortic aneurysm, and abdominal aortic aneurysm.\n",
    "An individual's risk for future cardiovascular events is modifiable, by lifestyle changes and preventive medical treatment. Lifestyle changes can include stopping smoking, healthy diet, regular exercise, etc. Preventive medical treatment can include a statin, mini dose aspirin, treatment for hypertension, etc. It is important to be able to predict the risk of an individual patient, in order to decide when to initiate lifestyle modification and preventive medical treatment.\n",
    "\n",
    "Multiple risk models for the prediction of cardiovascular risk of individual patients have been developed. One such key risk model is the Framingham Risk Score.\n",
    "\n",
    "The Framingham Risk Score is based on findings from the Framingham Heart Study.\n",
    "\n",
    "This project focuses on developing a robust machine learning-based MODEL for Predicting the 10 year risk of developing CHD."
   ]
  },
  {
   "cell_type": "markdown",
   "id": "692e502f-5cfb-4270-b224-41681d97590d",
   "metadata": {},
   "source": [
    "To know more on Framingam Heart Study and Framingam Risk Score, click on the below links:-\n",
    "\n",
    "\"Framingham Risk Score\"  - <https://en.wikipedia.org/wiki/Framingham_Risk_Score>                            \n",
    "\"Framingham Heart Study\" - <https://en.wikipedia.org/wiki/Framingham_Heart_Study>"
   ]
  },
  {
   "cell_type": "markdown",
   "id": "a0630485-9f56-479e-a529-835ebe274017",
   "metadata": {},
   "source": [
    "### About Dataset\n",
    "\n",
    "The \"Framingham\" heart disease dataset includes over 4,240 records,16 columns and 15 attributes. The goal of the dataset is to predict whether the patient has 10-year risk of future (CHD) coronary heart disease.\n",
    "\n",
    "male:             \n",
    "Description: Gender of the participant.           \n",
    "Values: 1 for male, 0 for female.           \n",
    "\n",
    "age:               \n",
    "Description: Age of the participant in years.                 \n",
    "Values: Numerical value representing the participant's age.                    \n",
    "\n",
    "education:                  \n",
    "Description: Education level of the participant.                 \n",
    "Values:\n",
    "1 = Some high school\n",
    "2 = High school graduate\n",
    "3 = Some college\n",
    "4 = College graduate                \n",
    "\n",
    "currentSmoker:                 \n",
    "Description: Whether the participant currently smokes cigarettes.                \n",
    "Values: 1 for yes, 0 for no.               \n",
    "\n",
    "cigsPerDay:                 \n",
    "Description: The average number of cigarettes smoked per day by the participant.             \n",
    "Values: Numerical value representing the number of cigarettes.                    \n",
    "\n",
    "BPMeds:                 \n",
    "Description: Whether the participant is currently on blood pressure medication.                        \n",
    "Values: 1 for yes, 0 for no.                   \n",
    "\n",
    "prevalentStroke:                    \n",
    "Description: Whether the participant has a history of stroke.                         \n",
    "Values: 1 for yes, 0 for no.                      \n",
    "\n",
    "prevalentHyp:                     \n",
    "Description: Whether the participant has a history of hypertension (high blood pressure).                       \n",
    "Values: 1 for yes, 0 for no.                        \n",
    "\n",
    "diabetes:                       \n",
    "Description: Whether the participant has diabetes.                          \n",
    "Values: 1 for yes, 0 for no.                      \n",
    "\n",
    "totChol:                      \n",
    "Description: Total cholesterol level of the participant.                 \n",
    "Values: Numerical value representing cholesterol level in mg/dL.                    \n",
    "\n",
    "sysBP:                      \n",
    "Description: Systolic blood pressure of the participant.                     \n",
    "Values: Numerical value representing systolic blood pressure in mmHg.                      \n",
    "\n",
    "diaBP:                         \n",
    "Description: Diastolic blood pressure of the participant.                         \n",
    "Values: Numerical value representing diastolic blood pressure in mmHg.                            \n",
    "\n",
    "BMI:                          \n",
    "Description: Body Mass Index of the participant.                              \n",
    "Values: Numerical value calculated as weight (kg) / height (m)^2.                                      \n",
    "\n",
    "heartRate:                              \n",
    "Description: Heart rate of the participant.                        \n",
    "Values: Numerical value representing beats per minute.                       \n",
    "\n",
    "glucose:                            \n",
    "Description: Blood glucose level of the participant.                                    \n",
    "Values: Numerical value representing glucose level in mg/dL.                                 \n",
    "\n",
    "TenYearCHD:                             \n",
    "Description: Whether the participant developed coronary heart disease (CHD) within ten years.                                       \n",
    "Values: 1 for yes, 0 for no.             "
   ]
  },
  {
   "cell_type": "code",
   "execution_count": 112,
   "id": "e974d356-c2c0-4430-b84b-3afa059193a0",
   "metadata": {},
   "outputs": [
    {
     "data": {
      "text/html": [
       "<div>\n",
       "<style scoped>\n",
       "    .dataframe tbody tr th:only-of-type {\n",
       "        vertical-align: middle;\n",
       "    }\n",
       "\n",
       "    .dataframe tbody tr th {\n",
       "        vertical-align: top;\n",
       "    }\n",
       "\n",
       "    .dataframe thead th {\n",
       "        text-align: right;\n",
       "    }\n",
       "</style>\n",
       "<table border=\"1\" class=\"dataframe\">\n",
       "  <thead>\n",
       "    <tr style=\"text-align: right;\">\n",
       "      <th></th>\n",
       "      <th>male</th>\n",
       "      <th>age</th>\n",
       "      <th>education</th>\n",
       "      <th>currentSmoker</th>\n",
       "      <th>cigsPerDay</th>\n",
       "      <th>BPMeds</th>\n",
       "      <th>prevalentStroke</th>\n",
       "      <th>prevalentHyp</th>\n",
       "      <th>diabetes</th>\n",
       "      <th>totChol</th>\n",
       "      <th>sysBP</th>\n",
       "      <th>diaBP</th>\n",
       "      <th>BMI</th>\n",
       "      <th>heartRate</th>\n",
       "      <th>glucose</th>\n",
       "      <th>TenYearCHD</th>\n",
       "    </tr>\n",
       "  </thead>\n",
       "  <tbody>\n",
       "    <tr>\n",
       "      <th>0</th>\n",
       "      <td>1</td>\n",
       "      <td>39</td>\n",
       "      <td>4.0</td>\n",
       "      <td>0</td>\n",
       "      <td>0.0</td>\n",
       "      <td>0.0</td>\n",
       "      <td>0</td>\n",
       "      <td>0</td>\n",
       "      <td>0</td>\n",
       "      <td>195.0</td>\n",
       "      <td>106.0</td>\n",
       "      <td>70.0</td>\n",
       "      <td>26.97</td>\n",
       "      <td>80.0</td>\n",
       "      <td>77.0</td>\n",
       "      <td>0</td>\n",
       "    </tr>\n",
       "    <tr>\n",
       "      <th>1</th>\n",
       "      <td>0</td>\n",
       "      <td>46</td>\n",
       "      <td>2.0</td>\n",
       "      <td>0</td>\n",
       "      <td>0.0</td>\n",
       "      <td>0.0</td>\n",
       "      <td>0</td>\n",
       "      <td>0</td>\n",
       "      <td>0</td>\n",
       "      <td>250.0</td>\n",
       "      <td>121.0</td>\n",
       "      <td>81.0</td>\n",
       "      <td>28.73</td>\n",
       "      <td>95.0</td>\n",
       "      <td>76.0</td>\n",
       "      <td>0</td>\n",
       "    </tr>\n",
       "    <tr>\n",
       "      <th>2</th>\n",
       "      <td>1</td>\n",
       "      <td>48</td>\n",
       "      <td>1.0</td>\n",
       "      <td>1</td>\n",
       "      <td>20.0</td>\n",
       "      <td>0.0</td>\n",
       "      <td>0</td>\n",
       "      <td>0</td>\n",
       "      <td>0</td>\n",
       "      <td>245.0</td>\n",
       "      <td>127.5</td>\n",
       "      <td>80.0</td>\n",
       "      <td>25.34</td>\n",
       "      <td>75.0</td>\n",
       "      <td>70.0</td>\n",
       "      <td>0</td>\n",
       "    </tr>\n",
       "    <tr>\n",
       "      <th>3</th>\n",
       "      <td>0</td>\n",
       "      <td>61</td>\n",
       "      <td>3.0</td>\n",
       "      <td>1</td>\n",
       "      <td>30.0</td>\n",
       "      <td>0.0</td>\n",
       "      <td>0</td>\n",
       "      <td>1</td>\n",
       "      <td>0</td>\n",
       "      <td>225.0</td>\n",
       "      <td>150.0</td>\n",
       "      <td>95.0</td>\n",
       "      <td>28.58</td>\n",
       "      <td>65.0</td>\n",
       "      <td>103.0</td>\n",
       "      <td>1</td>\n",
       "    </tr>\n",
       "    <tr>\n",
       "      <th>4</th>\n",
       "      <td>0</td>\n",
       "      <td>46</td>\n",
       "      <td>3.0</td>\n",
       "      <td>1</td>\n",
       "      <td>23.0</td>\n",
       "      <td>0.0</td>\n",
       "      <td>0</td>\n",
       "      <td>0</td>\n",
       "      <td>0</td>\n",
       "      <td>285.0</td>\n",
       "      <td>130.0</td>\n",
       "      <td>84.0</td>\n",
       "      <td>23.10</td>\n",
       "      <td>85.0</td>\n",
       "      <td>85.0</td>\n",
       "      <td>0</td>\n",
       "    </tr>\n",
       "  </tbody>\n",
       "</table>\n",
       "</div>"
      ],
      "text/plain": [
       "   male  age  education  currentSmoker  cigsPerDay  BPMeds  prevalentStroke  \\\n",
       "0     1   39        4.0              0         0.0     0.0                0   \n",
       "1     0   46        2.0              0         0.0     0.0                0   \n",
       "2     1   48        1.0              1        20.0     0.0                0   \n",
       "3     0   61        3.0              1        30.0     0.0                0   \n",
       "4     0   46        3.0              1        23.0     0.0                0   \n",
       "\n",
       "   prevalentHyp  diabetes  totChol  sysBP  diaBP    BMI  heartRate  glucose  \\\n",
       "0             0         0    195.0  106.0   70.0  26.97       80.0     77.0   \n",
       "1             0         0    250.0  121.0   81.0  28.73       95.0     76.0   \n",
       "2             0         0    245.0  127.5   80.0  25.34       75.0     70.0   \n",
       "3             1         0    225.0  150.0   95.0  28.58       65.0    103.0   \n",
       "4             0         0    285.0  130.0   84.0  23.10       85.0     85.0   \n",
       "\n",
       "   TenYearCHD  \n",
       "0           0  \n",
       "1           0  \n",
       "2           0  \n",
       "3           1  \n",
       "4           0  "
      ]
     },
     "execution_count": 112,
     "metadata": {},
     "output_type": "execute_result"
    }
   ],
   "source": [
    "df = pd.read_csv('framingham.csv')\n",
    "df.head()"
   ]
  },
  {
   "cell_type": "code",
   "execution_count": 21,
   "id": "9d72b72f-1de4-448a-ab5e-8572f1b74444",
   "metadata": {},
   "outputs": [
    {
     "name": "stdout",
     "output_type": "stream",
     "text": [
      "<class 'pandas.core.frame.DataFrame'>\n",
      "RangeIndex: 4240 entries, 0 to 4239\n",
      "Data columns (total 16 columns):\n",
      " #   Column           Non-Null Count  Dtype  \n",
      "---  ------           --------------  -----  \n",
      " 0   male             4240 non-null   int64  \n",
      " 1   age              4240 non-null   int64  \n",
      " 2   education        4135 non-null   float64\n",
      " 3   currentSmoker    4240 non-null   int64  \n",
      " 4   cigsPerDay       4211 non-null   float64\n",
      " 5   BPMeds           4187 non-null   float64\n",
      " 6   prevalentStroke  4240 non-null   int64  \n",
      " 7   prevalentHyp     4240 non-null   int64  \n",
      " 8   diabetes         4240 non-null   int64  \n",
      " 9   totChol          4190 non-null   float64\n",
      " 10  sysBP            4240 non-null   float64\n",
      " 11  diaBP            4240 non-null   float64\n",
      " 12  BMI              4221 non-null   float64\n",
      " 13  heartRate        4239 non-null   float64\n",
      " 14  glucose          3852 non-null   float64\n",
      " 15  TenYearCHD       4240 non-null   int64  \n",
      "dtypes: float64(9), int64(7)\n",
      "memory usage: 530.1 KB\n"
     ]
    }
   ],
   "source": [
    "df.info()"
   ]
  },
  {
   "cell_type": "code",
   "execution_count": 23,
   "id": "7f25e1d8-90ad-4f40-abe7-d067c6abef6e",
   "metadata": {},
   "outputs": [
    {
     "data": {
      "text/html": [
       "<div>\n",
       "<style scoped>\n",
       "    .dataframe tbody tr th:only-of-type {\n",
       "        vertical-align: middle;\n",
       "    }\n",
       "\n",
       "    .dataframe tbody tr th {\n",
       "        vertical-align: top;\n",
       "    }\n",
       "\n",
       "    .dataframe thead th {\n",
       "        text-align: right;\n",
       "    }\n",
       "</style>\n",
       "<table border=\"1\" class=\"dataframe\">\n",
       "  <thead>\n",
       "    <tr style=\"text-align: right;\">\n",
       "      <th></th>\n",
       "      <th>male</th>\n",
       "      <th>age</th>\n",
       "      <th>education</th>\n",
       "      <th>currentSmoker</th>\n",
       "      <th>cigsPerDay</th>\n",
       "      <th>BPMeds</th>\n",
       "      <th>prevalentStroke</th>\n",
       "      <th>prevalentHyp</th>\n",
       "      <th>diabetes</th>\n",
       "      <th>totChol</th>\n",
       "      <th>sysBP</th>\n",
       "      <th>diaBP</th>\n",
       "      <th>BMI</th>\n",
       "      <th>heartRate</th>\n",
       "      <th>glucose</th>\n",
       "      <th>TenYearCHD</th>\n",
       "    </tr>\n",
       "  </thead>\n",
       "  <tbody>\n",
       "    <tr>\n",
       "      <th>count</th>\n",
       "      <td>4240.000000</td>\n",
       "      <td>4240.000000</td>\n",
       "      <td>4135.000000</td>\n",
       "      <td>4240.000000</td>\n",
       "      <td>4211.000000</td>\n",
       "      <td>4187.000000</td>\n",
       "      <td>4240.000000</td>\n",
       "      <td>4240.000000</td>\n",
       "      <td>4240.000000</td>\n",
       "      <td>4190.000000</td>\n",
       "      <td>4240.000000</td>\n",
       "      <td>4240.000000</td>\n",
       "      <td>4221.000000</td>\n",
       "      <td>4239.000000</td>\n",
       "      <td>3852.000000</td>\n",
       "      <td>4240.000000</td>\n",
       "    </tr>\n",
       "    <tr>\n",
       "      <th>mean</th>\n",
       "      <td>0.429245</td>\n",
       "      <td>49.580189</td>\n",
       "      <td>1.979444</td>\n",
       "      <td>0.494104</td>\n",
       "      <td>9.005937</td>\n",
       "      <td>0.029615</td>\n",
       "      <td>0.005896</td>\n",
       "      <td>0.310613</td>\n",
       "      <td>0.025708</td>\n",
       "      <td>236.699523</td>\n",
       "      <td>132.354599</td>\n",
       "      <td>82.897759</td>\n",
       "      <td>25.800801</td>\n",
       "      <td>75.878981</td>\n",
       "      <td>81.963655</td>\n",
       "      <td>0.151887</td>\n",
       "    </tr>\n",
       "    <tr>\n",
       "      <th>std</th>\n",
       "      <td>0.495027</td>\n",
       "      <td>8.572942</td>\n",
       "      <td>1.019791</td>\n",
       "      <td>0.500024</td>\n",
       "      <td>11.922462</td>\n",
       "      <td>0.169544</td>\n",
       "      <td>0.076569</td>\n",
       "      <td>0.462799</td>\n",
       "      <td>0.158280</td>\n",
       "      <td>44.591284</td>\n",
       "      <td>22.033300</td>\n",
       "      <td>11.910394</td>\n",
       "      <td>4.079840</td>\n",
       "      <td>12.025348</td>\n",
       "      <td>23.954335</td>\n",
       "      <td>0.358953</td>\n",
       "    </tr>\n",
       "    <tr>\n",
       "      <th>min</th>\n",
       "      <td>0.000000</td>\n",
       "      <td>32.000000</td>\n",
       "      <td>1.000000</td>\n",
       "      <td>0.000000</td>\n",
       "      <td>0.000000</td>\n",
       "      <td>0.000000</td>\n",
       "      <td>0.000000</td>\n",
       "      <td>0.000000</td>\n",
       "      <td>0.000000</td>\n",
       "      <td>107.000000</td>\n",
       "      <td>83.500000</td>\n",
       "      <td>48.000000</td>\n",
       "      <td>15.540000</td>\n",
       "      <td>44.000000</td>\n",
       "      <td>40.000000</td>\n",
       "      <td>0.000000</td>\n",
       "    </tr>\n",
       "    <tr>\n",
       "      <th>25%</th>\n",
       "      <td>0.000000</td>\n",
       "      <td>42.000000</td>\n",
       "      <td>1.000000</td>\n",
       "      <td>0.000000</td>\n",
       "      <td>0.000000</td>\n",
       "      <td>0.000000</td>\n",
       "      <td>0.000000</td>\n",
       "      <td>0.000000</td>\n",
       "      <td>0.000000</td>\n",
       "      <td>206.000000</td>\n",
       "      <td>117.000000</td>\n",
       "      <td>75.000000</td>\n",
       "      <td>23.070000</td>\n",
       "      <td>68.000000</td>\n",
       "      <td>71.000000</td>\n",
       "      <td>0.000000</td>\n",
       "    </tr>\n",
       "    <tr>\n",
       "      <th>50%</th>\n",
       "      <td>0.000000</td>\n",
       "      <td>49.000000</td>\n",
       "      <td>2.000000</td>\n",
       "      <td>0.000000</td>\n",
       "      <td>0.000000</td>\n",
       "      <td>0.000000</td>\n",
       "      <td>0.000000</td>\n",
       "      <td>0.000000</td>\n",
       "      <td>0.000000</td>\n",
       "      <td>234.000000</td>\n",
       "      <td>128.000000</td>\n",
       "      <td>82.000000</td>\n",
       "      <td>25.400000</td>\n",
       "      <td>75.000000</td>\n",
       "      <td>78.000000</td>\n",
       "      <td>0.000000</td>\n",
       "    </tr>\n",
       "    <tr>\n",
       "      <th>75%</th>\n",
       "      <td>1.000000</td>\n",
       "      <td>56.000000</td>\n",
       "      <td>3.000000</td>\n",
       "      <td>1.000000</td>\n",
       "      <td>20.000000</td>\n",
       "      <td>0.000000</td>\n",
       "      <td>0.000000</td>\n",
       "      <td>1.000000</td>\n",
       "      <td>0.000000</td>\n",
       "      <td>263.000000</td>\n",
       "      <td>144.000000</td>\n",
       "      <td>90.000000</td>\n",
       "      <td>28.040000</td>\n",
       "      <td>83.000000</td>\n",
       "      <td>87.000000</td>\n",
       "      <td>0.000000</td>\n",
       "    </tr>\n",
       "    <tr>\n",
       "      <th>max</th>\n",
       "      <td>1.000000</td>\n",
       "      <td>70.000000</td>\n",
       "      <td>4.000000</td>\n",
       "      <td>1.000000</td>\n",
       "      <td>70.000000</td>\n",
       "      <td>1.000000</td>\n",
       "      <td>1.000000</td>\n",
       "      <td>1.000000</td>\n",
       "      <td>1.000000</td>\n",
       "      <td>696.000000</td>\n",
       "      <td>295.000000</td>\n",
       "      <td>142.500000</td>\n",
       "      <td>56.800000</td>\n",
       "      <td>143.000000</td>\n",
       "      <td>394.000000</td>\n",
       "      <td>1.000000</td>\n",
       "    </tr>\n",
       "  </tbody>\n",
       "</table>\n",
       "</div>"
      ],
      "text/plain": [
       "              male          age    education  currentSmoker   cigsPerDay  \\\n",
       "count  4240.000000  4240.000000  4135.000000    4240.000000  4211.000000   \n",
       "mean      0.429245    49.580189     1.979444       0.494104     9.005937   \n",
       "std       0.495027     8.572942     1.019791       0.500024    11.922462   \n",
       "min       0.000000    32.000000     1.000000       0.000000     0.000000   \n",
       "25%       0.000000    42.000000     1.000000       0.000000     0.000000   \n",
       "50%       0.000000    49.000000     2.000000       0.000000     0.000000   \n",
       "75%       1.000000    56.000000     3.000000       1.000000    20.000000   \n",
       "max       1.000000    70.000000     4.000000       1.000000    70.000000   \n",
       "\n",
       "            BPMeds  prevalentStroke  prevalentHyp     diabetes      totChol  \\\n",
       "count  4187.000000      4240.000000   4240.000000  4240.000000  4190.000000   \n",
       "mean      0.029615         0.005896      0.310613     0.025708   236.699523   \n",
       "std       0.169544         0.076569      0.462799     0.158280    44.591284   \n",
       "min       0.000000         0.000000      0.000000     0.000000   107.000000   \n",
       "25%       0.000000         0.000000      0.000000     0.000000   206.000000   \n",
       "50%       0.000000         0.000000      0.000000     0.000000   234.000000   \n",
       "75%       0.000000         0.000000      1.000000     0.000000   263.000000   \n",
       "max       1.000000         1.000000      1.000000     1.000000   696.000000   \n",
       "\n",
       "             sysBP        diaBP          BMI    heartRate      glucose  \\\n",
       "count  4240.000000  4240.000000  4221.000000  4239.000000  3852.000000   \n",
       "mean    132.354599    82.897759    25.800801    75.878981    81.963655   \n",
       "std      22.033300    11.910394     4.079840    12.025348    23.954335   \n",
       "min      83.500000    48.000000    15.540000    44.000000    40.000000   \n",
       "25%     117.000000    75.000000    23.070000    68.000000    71.000000   \n",
       "50%     128.000000    82.000000    25.400000    75.000000    78.000000   \n",
       "75%     144.000000    90.000000    28.040000    83.000000    87.000000   \n",
       "max     295.000000   142.500000    56.800000   143.000000   394.000000   \n",
       "\n",
       "        TenYearCHD  \n",
       "count  4240.000000  \n",
       "mean      0.151887  \n",
       "std       0.358953  \n",
       "min       0.000000  \n",
       "25%       0.000000  \n",
       "50%       0.000000  \n",
       "75%       0.000000  \n",
       "max       1.000000  "
      ]
     },
     "execution_count": 23,
     "metadata": {},
     "output_type": "execute_result"
    }
   ],
   "source": [
    "df.describe()"
   ]
  },
  {
   "cell_type": "code",
   "execution_count": null,
   "id": "b0a7a523-3392-48f7-913d-4f04feb502a8",
   "metadata": {},
   "outputs": [],
   "source": []
  },
  {
   "cell_type": "markdown",
   "id": "5e942330-e735-4f03-ad69-a3e1a380c7f0",
   "metadata": {},
   "source": [
    "### Exploratory Data Visualization\n",
    "Before creating the model, I will perform some exploratory data visualization, to get some insights on the data. As mentioned above, there are many risk factors such as smoking and high cholesterol levels that were found by the Framingham Heart Study to increase 10 year risk of CHD. I will take a look at some of these risk factors, and see if I can find these relationships in this dataset."
   ]
  },
  {
   "cell_type": "code",
   "execution_count": 32,
   "id": "f3e91165-1365-43d6-90a9-b3d81e6cac5d",
   "metadata": {},
   "outputs": [],
   "source": [
    "#level of education of the participants"
   ]
  },
  {
   "cell_type": "code",
   "execution_count": 28,
   "id": "66a61cfe-1137-46ca-b271-4af7c93ef5b5",
   "metadata": {},
   "outputs": [
    {
     "data": {
      "text/plain": [
       "<Axes: xlabel='education', ylabel='count'>"
      ]
     },
     "execution_count": 28,
     "metadata": {},
     "output_type": "execute_result"
    },
    {
     "data": {
      "image/png": "[encoded data removed]",
      "text/plain": [
       "<Figure size 640x480 with 1 Axes>"
      ]
     },
     "metadata": {},
     "output_type": "display_data"
    }
   ],
   "source": [
    "sns.countplot(x='education',data=df)"
   ]
  },
  {
   "cell_type": "markdown",
   "id": "bba736d7-08c8-4837-9a6b-fdd42eb2a8b3",
   "metadata": {},
   "source": [
    "Very few participants have owns a degree and a fewer number of them have a diploma or went to college. Most participants seem to have some form of high school education."
   ]
  },
  {
   "cell_type": "markdown",
   "id": "152225f9-5261-4688-a5ea-9f543be30d71",
   "metadata": {},
   "source": []
  },
  {
   "cell_type": "code",
   "execution_count": 35,
   "id": "5db71487-d718-4377-af3d-f91e53bed3b5",
   "metadata": {},
   "outputs": [],
   "source": [
    "# The Effect of smoking on increase the risk of CHD"
   ]
  },
  {
   "cell_type": "code",
   "execution_count": 39,
   "id": "a8074729-1130-4acf-bd80-6a236eafa8f3",
   "metadata": {},
   "outputs": [
    {
     "data": {
      "text/plain": [
       "<seaborn.axisgrid.FacetGrid at 0x22b6a4324d0>"
      ]
     },
     "execution_count": 39,
     "metadata": {},
     "output_type": "execute_result"
    },
    {
     "data": {
      "image/png": "[encoded data removed]",
      "text/plain": [
       "<Figure size 500x500 with 1 Axes>"
      ]
     },
     "metadata": {},
     "output_type": "display_data"
    }
   ],
   "source": [
    "sns.catplot(x='TenYearCHD',y='cigsPerDay',kind='bar',data=df)"
   ]
  },
  {
   "cell_type": "markdown",
   "id": "f740be07-60bf-469e-aef9-a402eadd336a",
   "metadata": {},
   "source": [
    "A person who smoke more cigarattes per day is more likely to have a ten year CHD risk than those who do not."
   ]
  },
  {
   "cell_type": "markdown",
   "id": "acb8929a-239d-4e72-9c9c-98b85d8e123e",
   "metadata": {},
   "source": []
  },
  {
   "cell_type": "code",
   "execution_count": 42,
   "id": "6e102fa2-69d9-477e-adee-23fa2e144435",
   "metadata": {},
   "outputs": [],
   "source": [
    "# Relationship between age and the ten year risk of CHD, sorting by the category smoker."
   ]
  },
  {
   "cell_type": "code",
   "execution_count": 44,
   "id": "b32ebf92-ae74-4a98-9f1c-a3d35f39f6e5",
   "metadata": {},
   "outputs": [
    {
     "data": {
      "text/plain": [
       "<matplotlib.legend.Legend at 0x22b6c360e90>"
      ]
     },
     "execution_count": 44,
     "metadata": {},
     "output_type": "execute_result"
    },
    {
     "data": {
      "image/png": "[encoded data removed]",
      "text/plain": [
       "<Figure size 640x480 with 1 Axes>"
      ]
     },
     "metadata": {},
     "output_type": "display_data"
    }
   ],
   "source": [
    "sns.boxplot(x='TenYearCHD',y='age',hue='currentSmoker',data=df)\n",
    "plt.legend(bbox_to_anchor=(1.05, 1), loc=2, borderaxespad=0.)"
   ]
  },
  {
   "cell_type": "markdown",
   "id": "6cfe3892-d71f-4256-9f1b-f4954f03da74",
   "metadata": {},
   "source": [
    "From here, it can be seen that older patients are more likely to develop CHD. Smokers seem to be at a larger risk of developing CHD at a younger age, as compared to non-smokers."
   ]
  },
  {
   "cell_type": "markdown",
   "id": "f21827d6-ab65-40b7-b13a-1ca88a05caaa",
   "metadata": {},
   "source": []
  },
  {
   "cell_type": "code",
   "execution_count": 47,
   "id": "209a82a2-76f1-4b22-af01-49b9cd4b1776",
   "metadata": {},
   "outputs": [],
   "source": [
    "# The relationship between age, prevalent stroke, and the ten year risk of developing CHD."
   ]
  },
  {
   "cell_type": "code",
   "execution_count": 51,
   "id": "4be8a597-4dc4-4d41-90c8-3054ae16d13e",
   "metadata": {},
   "outputs": [
    {
     "data": {
      "text/plain": [
       "<matplotlib.legend.Legend at 0x22b6c128c50>"
      ]
     },
     "execution_count": 51,
     "metadata": {},
     "output_type": "execute_result"
    },
    {
     "data": {
      "image/png": "[encoded data removed]",
      "text/plain": [
       "<Figure size 640x480 with 1 Axes>"
      ]
     },
     "metadata": {},
     "output_type": "display_data"
    }
   ],
   "source": [
    "sns.boxplot(x='TenYearCHD',y='age',hue='prevalentStroke',data=df)\n",
    "plt.legend(bbox_to_anchor=(1.05, 1), loc=2, borderaxespad=0.)"
   ]
  },
  {
   "cell_type": "markdown",
   "id": "036584d3-d122-4d9e-a0ad-1167cc5ce850",
   "metadata": {},
   "source": [
    "It looks as though strokes are more prevalent in participants of an older age group."
   ]
  },
  {
   "cell_type": "markdown",
   "id": "5847af1e-3819-4219-8f06-fd359265fcc2",
   "metadata": {},
   "source": []
  },
  {
   "cell_type": "code",
   "execution_count": 54,
   "id": "5a79e17a-c578-497f-a9ce-a1ace3dc428f",
   "metadata": {},
   "outputs": [],
   "source": [
    "#  The relation between age, diabetes, and ten year risk of developing CHD."
   ]
  },
  {
   "cell_type": "code",
   "execution_count": 71,
   "id": "e9cd5d4b-659e-4e7f-8c97-d13bcd932c59",
   "metadata": {},
   "outputs": [
    {
     "data": {
      "text/plain": [
       "<matplotlib.legend.Legend at 0x22b6c685450>"
      ]
     },
     "execution_count": 71,
     "metadata": {},
     "output_type": "execute_result"
    },
    {
     "data": {
      "image/png": "[encoded data removed]",
      "text/plain": [
       "<Figure size 640x480 with 1 Axes>"
      ]
     },
     "metadata": {},
     "output_type": "display_data"
    }
   ],
   "source": [
    "sns.boxplot(x='TenYearCHD',y='age',hue='diabetes',data=df)\n",
    "plt.legend(bbox_to_anchor=(1.05, 1), loc=2, borderaxespad=0.)"
   ]
  },
  {
   "cell_type": "markdown",
   "id": "d8a2ca1b-78ce-4a30-8d12-d232ccbf885f",
   "metadata": {},
   "source": [
    "Again, it looks as though an older participant is more likely to have diabetes than a younger one."
   ]
  },
  {
   "cell_type": "markdown",
   "id": "8f10bde3-2aa5-4b41-8d7d-0da38012f93b",
   "metadata": {},
   "source": []
  },
  {
   "cell_type": "code",
   "execution_count": 61,
   "id": "1a4d8862-b552-4fcf-b453-4cdf56984736",
   "metadata": {},
   "outputs": [],
   "source": [
    "# The relation between total cholesterol levels and ten year risk of developing CHD."
   ]
  },
  {
   "cell_type": "code",
   "execution_count": 67,
   "id": "da59198f-6586-464e-adaf-4a3dbcd0e753",
   "metadata": {},
   "outputs": [
    {
     "data": {
      "text/plain": [
       "(0.0, 725.45)"
      ]
     },
     "execution_count": 67,
     "metadata": {},
     "output_type": "execute_result"
    },
    {
     "data": {
      "image/png": "[encoded data removed]",
      "text/plain": [
       "<Figure size 640x480 with 1 Axes>"
      ]
     },
     "metadata": {},
     "output_type": "display_data"
    }
   ],
   "source": [
    "sns.boxplot(x='TenYearCHD',y='totChol',data=df)\n",
    "plt.ylim(0,)"
   ]
  },
  {
   "cell_type": "markdown",
   "id": "5324638d-69f7-4052-b54e-89c49d1bf7b9",
   "metadata": {},
   "source": [
    "Patients with a ten year CHD risk have slightly higher cholesterol levels than patients who don't, though the difference is very small and not significant. This may be attributed to the fact that the variable 'total cholesterol' includes both LDL and HDL. LDL, or 'bad cholesterol' is said to increase the risk of CHD. HDL, or 'good cholesterol' is said to decrease the risk of CHD. The variable total cholesterol includes both of them, which is probably why its hard to see a proper relationship in the plot above. If the data set had the two kinds of cholesterol as separate variables, the outcome may have been clearer."
   ]
  },
  {
   "cell_type": "markdown",
   "id": "47c09d8a-7192-42ba-be6d-e552536dbee0",
   "metadata": {},
   "source": []
  },
  {
   "cell_type": "code",
   "execution_count": 74,
   "id": "6160a273-2929-4523-a40e-322b68c6a098",
   "metadata": {},
   "outputs": [],
   "source": [
    "# lets take a look at both systolic and diastolic blood pressure, and visualize their relationship with ten year CHD risk."
   ]
  },
  {
   "cell_type": "code",
   "execution_count": 76,
   "id": "eacd0fda-528c-4d60-ac51-88f9727574ef",
   "metadata": {},
   "outputs": [
    {
     "data": {
      "text/plain": [
       "(0.0, 152.88853940217393)"
      ]
     },
     "execution_count": 76,
     "metadata": {},
     "output_type": "execute_result"
    },
    {
     "data": {
      "image/png": "[encoded data removed]",
      "text/plain": [
       "<Figure size 500x500 with 1 Axes>"
      ]
     },
     "metadata": {},
     "output_type": "display_data"
    }
   ],
   "source": [
    "sns.catplot(x='TenYearCHD',y='sysBP',kind='bar',data=df)\n",
    "plt.ylim(0,)"
   ]
  },
  {
   "cell_type": "code",
   "execution_count": 78,
   "id": "7efc24a1-30bf-445b-8391-86960ec3ca21",
   "metadata": {},
   "outputs": [
    {
     "data": {
      "text/plain": [
       "<seaborn.axisgrid.FacetGrid at 0x22b6cad91d0>"
      ]
     },
     "execution_count": 78,
     "metadata": {},
     "output_type": "execute_result"
    },
    {
     "data": {
      "image/png": "[encoded data removed]",
      "text/plain": [
       "<Figure size 500x500 with 1 Axes>"
      ]
     },
     "metadata": {},
     "output_type": "display_data"
    }
   ],
   "source": [
    "sns.catplot(x='TenYearCHD',y='diaBP',kind='bar',data=df)"
   ]
  },
  {
   "cell_type": "markdown",
   "id": "7f309975-54b2-469c-8b90-43211437197f",
   "metadata": {},
   "source": [
    "Patients with a ten year CHD risk seem to have higher blood pressure than the ones who don't."
   ]
  },
  {
   "cell_type": "markdown",
   "id": "b852322a-780a-4e83-97a1-7a8f2eac5213",
   "metadata": {},
   "source": []
  },
  {
   "cell_type": "code",
   "execution_count": 81,
   "id": "ea1bd968-8e0d-421b-bed7-b6591c3efd13",
   "metadata": {},
   "outputs": [],
   "source": [
    "# The relationship between BMI and the ten year risk of CHD."
   ]
  },
  {
   "cell_type": "code",
   "execution_count": 85,
   "id": "ddb9d145-0359-4687-aff5-bf285ac55214",
   "metadata": {},
   "outputs": [
    {
     "data": {
      "text/plain": [
       "<seaborn.axisgrid.FacetGrid at 0x22b6ca6b4d0>"
      ]
     },
     "execution_count": 85,
     "metadata": {},
     "output_type": "execute_result"
    },
    {
     "data": {
      "image/png": "[encoded data removed]",
      "text/plain": [
       "<Figure size 500x500 with 1 Axes>"
      ]
     },
     "metadata": {},
     "output_type": "display_data"
    }
   ],
   "source": [
    "sns.catplot(x='TenYearCHD',y='BMI',kind='bar',data=df)"
   ]
  },
  {
   "cell_type": "markdown",
   "id": "7e4d65c5-0a68-41a8-a09c-ea0ddb24a61a",
   "metadata": {},
   "source": [
    "Patients with CHD are seen to have slightly higher BMI than patients without."
   ]
  },
  {
   "cell_type": "markdown",
   "id": "29b8992c-11fb-4f3e-9e04-90b8f4b4dcc4",
   "metadata": {},
   "source": []
  },
  {
   "cell_type": "code",
   "execution_count": 88,
   "id": "df092eca-57a4-4411-a79b-1e1566556891",
   "metadata": {},
   "outputs": [],
   "source": [
    "# lets take a look at BP medications, and see if there is a relationship."
   ]
  },
  {
   "cell_type": "code",
   "execution_count": 90,
   "id": "d64c1c52-31e6-4045-8682-cc16cf74e183",
   "metadata": {},
   "outputs": [
    {
     "data": {
      "text/plain": [
       "<seaborn.axisgrid.FacetGrid at 0x22b6ca5af10>"
      ]
     },
     "execution_count": 90,
     "metadata": {},
     "output_type": "execute_result"
    },
    {
     "data": {
      "image/png": "[encoded data removed]",
      "text/plain": [
       "<Figure size 500x500 with 1 Axes>"
      ]
     },
     "metadata": {},
     "output_type": "display_data"
    }
   ],
   "source": [
    "sns.catplot(x='TenYearCHD',y='BPMeds',kind='bar',data=df)"
   ]
  },
  {
   "cell_type": "markdown",
   "id": "d71e46e6-cf91-4d19-b77e-d624f57bf493",
   "metadata": {},
   "source": [
    "A person who takes BP Medications is prone to have ten year CHD risks much more than those who don't"
   ]
  },
  {
   "cell_type": "markdown",
   "id": "c7dca555-f3cc-4d17-a42a-a929682ac41c",
   "metadata": {},
   "source": []
  },
  {
   "cell_type": "markdown",
   "id": "a873124f-efd2-41d3-882e-644601de0e2e",
   "metadata": {},
   "source": [
    "### DATA PREPROCESSING"
   ]
  },
  {
   "cell_type": "code",
   "execution_count": 94,
   "id": "a6c1afa3-21c3-4d8b-94bb-d9a433572aa8",
   "metadata": {},
   "outputs": [
    {
     "name": "stdout",
     "output_type": "stream",
     "text": [
      "<class 'pandas.core.frame.DataFrame'>\n",
      "RangeIndex: 4240 entries, 0 to 4239\n",
      "Data columns (total 16 columns):\n",
      " #   Column           Non-Null Count  Dtype  \n",
      "---  ------           --------------  -----  \n",
      " 0   male             4240 non-null   int64  \n",
      " 1   age              4240 non-null   int64  \n",
      " 2   education        4135 non-null   float64\n",
      " 3   currentSmoker    4240 non-null   int64  \n",
      " 4   cigsPerDay       4211 non-null   float64\n",
      " 5   BPMeds           4187 non-null   float64\n",
      " 6   prevalentStroke  4240 non-null   int64  \n",
      " 7   prevalentHyp     4240 non-null   int64  \n",
      " 8   diabetes         4240 non-null   int64  \n",
      " 9   totChol          4190 non-null   float64\n",
      " 10  sysBP            4240 non-null   float64\n",
      " 11  diaBP            4240 non-null   float64\n",
      " 12  BMI              4221 non-null   float64\n",
      " 13  heartRate        4239 non-null   float64\n",
      " 14  glucose          3852 non-null   float64\n",
      " 15  TenYearCHD       4240 non-null   int64  \n",
      "dtypes: float64(9), int64(7)\n",
      "memory usage: 530.1 KB\n"
     ]
    }
   ],
   "source": [
    "df.info()"
   ]
  },
  {
   "cell_type": "code",
   "execution_count": 96,
   "id": "75d1eba5-3ca9-417a-8d0b-32b0f0218ba2",
   "metadata": {},
   "outputs": [
    {
     "data": {
      "text/plain": [
       "male                 0\n",
       "age                  0\n",
       "education          105\n",
       "currentSmoker        0\n",
       "cigsPerDay          29\n",
       "BPMeds              53\n",
       "prevalentStroke      0\n",
       "prevalentHyp         0\n",
       "diabetes             0\n",
       "totChol             50\n",
       "sysBP                0\n",
       "diaBP                0\n",
       "BMI                 19\n",
       "heartRate            1\n",
       "glucose            388\n",
       "TenYearCHD           0\n",
       "dtype: int64"
      ]
     },
     "execution_count": 96,
     "metadata": {},
     "output_type": "execute_result"
    }
   ],
   "source": [
    "df.isnull().sum()"
   ]
  },
  {
   "cell_type": "code",
   "execution_count": 134,
   "id": "99f3da01-b918-4e1d-853b-ed7c9cbe1604",
   "metadata": {},
   "outputs": [],
   "source": [
    "# replacing the null values with its mean value"
   ]
  },
  {
   "cell_type": "code",
   "execution_count": 136,
   "id": "3cbd614d-d6e1-487d-8845-78374de6d31b",
   "metadata": {},
   "outputs": [],
   "source": [
    "columns_with_nulls = df.columns[df.isnull().any()]\n",
    "\n",
    "for column in columns_with_nulls:\n",
    "    mean_value = np.round(df[column].mean(), 1)\n",
    "    df[column].replace(np.nan, mean_value, inplace=True)"
   ]
  },
  {
   "cell_type": "code",
   "execution_count": 138,
   "id": "bcbd787f-c4a0-4f03-8cfd-11c8f5253949",
   "metadata": {},
   "outputs": [
    {
     "data": {
      "text/plain": [
       "male               0\n",
       "age                0\n",
       "education          0\n",
       "currentSmoker      0\n",
       "cigsPerDay         0\n",
       "BPMeds             0\n",
       "prevalentStroke    0\n",
       "prevalentHyp       0\n",
       "diabetes           0\n",
       "totChol            0\n",
       "sysBP              0\n",
       "diaBP              0\n",
       "BMI                0\n",
       "heartRate          0\n",
       "glucose            0\n",
       "TenYearCHD         0\n",
       "dtype: int64"
      ]
     },
     "execution_count": 138,
     "metadata": {},
     "output_type": "execute_result"
    }
   ],
   "source": [
    "df.isnull().sum()"
   ]
  },
  {
   "cell_type": "code",
   "execution_count": 148,
   "id": "cc122f0d-a1c9-4472-8e00-844aa0b16ae4",
   "metadata": {},
   "outputs": [],
   "source": [
    "# check for duplicated values"
   ]
  },
  {
   "cell_type": "code",
   "execution_count": 146,
   "id": "3d051c19-4783-4812-a988-54e55040fa70",
   "metadata": {},
   "outputs": [
    {
     "data": {
      "text/html": [
       "<div>\n",
       "<style scoped>\n",
       "    .dataframe tbody tr th:only-of-type {\n",
       "        vertical-align: middle;\n",
       "    }\n",
       "\n",
       "    .dataframe tbody tr th {\n",
       "        vertical-align: top;\n",
       "    }\n",
       "\n",
       "    .dataframe thead th {\n",
       "        text-align: right;\n",
       "    }\n",
       "</style>\n",
       "<table border=\"1\" class=\"dataframe\">\n",
       "  <thead>\n",
       "    <tr style=\"text-align: right;\">\n",
       "      <th></th>\n",
       "      <th>male</th>\n",
       "      <th>age</th>\n",
       "      <th>education</th>\n",
       "      <th>currentSmoker</th>\n",
       "      <th>cigsPerDay</th>\n",
       "      <th>BPMeds</th>\n",
       "      <th>prevalentStroke</th>\n",
       "      <th>prevalentHyp</th>\n",
       "      <th>diabetes</th>\n",
       "      <th>totChol</th>\n",
       "      <th>sysBP</th>\n",
       "      <th>diaBP</th>\n",
       "      <th>BMI</th>\n",
       "      <th>heartRate</th>\n",
       "      <th>glucose</th>\n",
       "      <th>TenYearCHD</th>\n",
       "    </tr>\n",
       "  </thead>\n",
       "  <tbody>\n",
       "  </tbody>\n",
       "</table>\n",
       "</div>"
      ],
      "text/plain": [
       "Empty DataFrame\n",
       "Columns: [male, age, education, currentSmoker, cigsPerDay, BPMeds, prevalentStroke, prevalentHyp, diabetes, totChol, sysBP, diaBP, BMI, heartRate, glucose, TenYearCHD]\n",
       "Index: []"
      ]
     },
     "execution_count": 146,
     "metadata": {},
     "output_type": "execute_result"
    }
   ],
   "source": [
    "duplicated = df[df.duplicated()]\n",
    "duplicated"
   ]
  },
  {
   "cell_type": "code",
   "execution_count": 150,
   "id": "9c7d96c1-896c-445b-b813-3e492c475788",
   "metadata": {},
   "outputs": [
    {
     "data": {
      "text/plain": [
       "(4240, 16)"
      ]
     },
     "execution_count": 150,
     "metadata": {},
     "output_type": "execute_result"
    }
   ],
   "source": [
    "df.shape"
   ]
  },
  {
   "cell_type": "markdown",
   "id": "50ae5092-a04a-47eb-befe-750ae3862404",
   "metadata": {},
   "source": []
  },
  {
   "cell_type": "markdown",
   "id": "21ca8eaf-7eae-4b31-88dc-a70b12da264b",
   "metadata": {},
   "source": [
    "#### Calculating Baseline Accuracy"
   ]
  },
  {
   "cell_type": "code",
   "execution_count": 154,
   "id": "6ed8a461-17dc-408f-b29d-502129f8467d",
   "metadata": {},
   "outputs": [
    {
     "data": {
      "text/plain": [
       "TenYearCHD\n",
       "0    3596\n",
       "1     644\n",
       "Name: count, dtype: int64"
      ]
     },
     "execution_count": 154,
     "metadata": {},
     "output_type": "execute_result"
    }
   ],
   "source": [
    "class_counts = df['TenYearCHD'].value_counts()\n",
    "class_counts"
   ]
  },
  {
   "cell_type": "code",
   "execution_count": 156,
   "id": "827ae030-e5ea-4634-aa96-ff248502b1fb",
   "metadata": {},
   "outputs": [
    {
     "data": {
      "text/plain": [
       "3596"
      ]
     },
     "execution_count": 156,
     "metadata": {},
     "output_type": "execute_result"
    }
   ],
   "source": [
    "most_frequent_class_count = class_counts.max()\n",
    "most_frequent_class_count"
   ]
  },
  {
   "cell_type": "code",
   "execution_count": 160,
   "id": "e0fcb3ea-9025-4cab-b891-5824c1abeaae",
   "metadata": {},
   "outputs": [
    {
     "data": {
      "text/plain": [
       "0.8481132075471698"
      ]
     },
     "execution_count": 160,
     "metadata": {},
     "output_type": "execute_result"
    }
   ],
   "source": [
    "base_line_accuracy = most_frequent_class_count/len(df['TenYearCHD'])\n",
    "base_line_accuracy"
   ]
  },
  {
   "cell_type": "markdown",
   "id": "5dac6db8-8093-471e-ae72-636160cddf3c",
   "metadata": {},
   "source": [
    "##### The model needs to beat the baseline accuracy of 0.85."
   ]
  },
  {
   "cell_type": "markdown",
   "id": "4b889cfc-bad7-4352-a941-8fb8266253cf",
   "metadata": {},
   "source": []
  },
  {
   "cell_type": "markdown",
   "id": "70469a03-9244-4a04-b3a5-f75101766eb6",
   "metadata": {},
   "source": [
    "### Train-test split"
   ]
  },
  {
   "cell_type": "code",
   "execution_count": 176,
   "id": "33a1334b-0ebb-444b-b162-79a5ba21a85c",
   "metadata": {},
   "outputs": [],
   "source": [
    "X = df.drop('TenYearCHD',axis=1)\n",
    "y = df['TenYearCHD']"
   ]
  },
  {
   "cell_type": "code",
   "execution_count": 178,
   "id": "60b7fb2b-cb1e-490c-bbcc-d4ad618c9d84",
   "metadata": {},
   "outputs": [
    {
     "name": "stdout",
     "output_type": "stream",
     "text": [
      "(2968, 15) (1272, 15)\n",
      "(2968,) (1272,)\n"
     ]
    }
   ],
   "source": [
    "X_train, X_test, y_train, y_test = train_test_split(X,y, test_size=0.3, random_state=42)\n",
    "print(X_train.shape, X_test.shape)\n",
    "print(y_train.shape, y_test.shape)"
   ]
  },
  {
   "cell_type": "code",
   "execution_count": 181,
   "id": "81192462-8ea0-4fe7-848d-9c9131a62bc0",
   "metadata": {},
   "outputs": [
    {
     "data": {
      "text/plain": [
       "TenYearCHD\n",
       "0    2519\n",
       "1     449\n",
       "Name: count, dtype: int64"
      ]
     },
     "execution_count": 181,
     "metadata": {},
     "output_type": "execute_result"
    }
   ],
   "source": [
    "y_train.value_counts()"
   ]
  },
  {
   "cell_type": "code",
   "execution_count": null,
   "id": "f26f5e55-3d91-45e6-951b-04bf67a902a3",
   "metadata": {},
   "outputs": [],
   "source": []
  },
  {
   "cell_type": "markdown",
   "id": "90465177-635d-48d0-b122-9e7fbdd1d554",
   "metadata": {},
   "source": [
    "### Over and under-sampling\n",
    "The data set it unbalanced, and more than 80% of the data is of participants who don't have a ten year CHD risk. To overcome this, I did both; oversampling and undersampling. Then, I created a pipeline for a decision tree classifier."
   ]
  },
  {
   "cell_type": "code",
   "execution_count": 183,
   "id": "885b6432-3a49-48dc-8fb4-3098b263316d",
   "metadata": {},
   "outputs": [],
   "source": [
    "oversample = RandomOverSampler(sampling_strategy='minority')\n",
    "X_over, y_over = oversample.fit_resample(X, y)\n",
    "X_train, X_test, y_train, y_test = train_test_split(X_over,y_over,test_size=0.3)"
   ]
  },
  {
   "cell_type": "code",
   "execution_count": 185,
   "id": "eee580c2-f768-4e02-ba91-3c04748eaaf0",
   "metadata": {},
   "outputs": [
    {
     "name": "stdout",
     "output_type": "stream",
     "text": [
      "(5034, 15) (2158, 15)\n",
      "(5034,) (2158,)\n"
     ]
    }
   ],
   "source": [
    "print(X_train.shape, X_test.shape)\n",
    "print(y_train.shape, y_test.shape)"
   ]
  },
  {
   "cell_type": "code",
   "execution_count": 187,
   "id": "58f76e35-29cb-42d7-916f-ead55998c213",
   "metadata": {},
   "outputs": [
    {
     "data": {
      "text/plain": [
       "TenYearCHD\n",
       "1    2521\n",
       "0    2513\n",
       "Name: count, dtype: int64"
      ]
     },
     "execution_count": 187,
     "metadata": {},
     "output_type": "execute_result"
    }
   ],
   "source": [
    "y_train.value_counts()"
   ]
  },
  {
   "cell_type": "markdown",
   "id": "274c6303-45f4-4eca-aafd-d91d0663cf4f",
   "metadata": {},
   "source": []
  },
  {
   "cell_type": "markdown",
   "id": "33614d56-b589-4936-881e-bb67989ea43a",
   "metadata": {},
   "source": [
    "### Fitting the data to the pipeline"
   ]
  },
  {
   "cell_type": "code",
   "execution_count": 193,
   "id": "46d8a0d9-58c7-4e1d-8017-8fbaffdff5ca",
   "metadata": {},
   "outputs": [],
   "source": [
    "steps = [('under', RandomUnderSampler()), ('model', DecisionTreeClassifier())]\n",
    "pipeline = Pipeline(steps=steps)"
   ]
  },
  {
   "cell_type": "code",
   "execution_count": 195,
   "id": "0dccaf17-3ab4-4879-a90d-4c1644693c52",
   "metadata": {},
   "outputs": [
    {
     "data": {
      "text/html": [
       "<style>#sk-container-id-1 {color: black;background-color: white;}#sk-container-id-1 pre{padding: 0;}#sk-container-id-1 div.sk-toggleable {background-color: white;}#sk-container-id-1 label.sk-toggleable__label {cursor: pointer;display: block;width: 100%;margin-bottom: 0;padding: 0.3em;box-sizing: border-box;text-align: center;}#sk-container-id-1 label.sk-toggleable__label-arrow:before {content: \"▸\";float: left;margin-right: 0.25em;color: #696969;}#sk-container-id-1 label.sk-toggleable__label-arrow:hover:before {color: black;}#sk-container-id-1 div.sk-estimator:hover label.sk-toggleable__label-arrow:before {color: black;}#sk-container-id-1 div.sk-toggleable__content {max-height: 0;max-width: 0;overflow: hidden;text-align: left;background-color: #f0f8ff;}#sk-container-id-1 div.sk-toggleable__content pre {margin: 0.2em;color: black;border-radius: 0.25em;background-color: #f0f8ff;}#sk-container-id-1 input.sk-toggleable__control:checked~div.sk-toggleable__content {max-height: 200px;max-width: 100%;overflow: auto;}#sk-container-id-1 input.sk-toggleable__control:checked~label.sk-toggleable__label-arrow:before {content: \"▾\";}#sk-container-id-1 div.sk-estimator input.sk-toggleable__control:checked~label.sk-toggleable__label {background-color: #d4ebff;}#sk-container-id-1 div.sk-label input.sk-toggleable__control:checked~label.sk-toggleable__label {background-color: #d4ebff;}#sk-container-id-1 input.sk-hidden--visually {border: 0;clip: rect(1px 1px 1px 1px);clip: rect(1px, 1px, 1px, 1px);height: 1px;margin: -1px;overflow: hidden;padding: 0;position: absolute;width: 1px;}#sk-container-id-1 div.sk-estimator {font-family: monospace;background-color: #f0f8ff;border: 1px dotted black;border-radius: 0.25em;box-sizing: border-box;margin-bottom: 0.5em;}#sk-container-id-1 div.sk-estimator:hover {background-color: #d4ebff;}#sk-container-id-1 div.sk-parallel-item::after {content: \"\";width: 100%;border-bottom: 1px solid gray;flex-grow: 1;}#sk-container-id-1 div.sk-label:hover label.sk-toggleable__label {background-color: #d4ebff;}#sk-container-id-1 div.sk-serial::before {content: \"\";position: absolute;border-left: 1px solid gray;box-sizing: border-box;top: 0;bottom: 0;left: 50%;z-index: 0;}#sk-container-id-1 div.sk-serial {display: flex;flex-direction: column;align-items: center;background-color: white;padding-right: 0.2em;padding-left: 0.2em;position: relative;}#sk-container-id-1 div.sk-item {position: relative;z-index: 1;}#sk-container-id-1 div.sk-parallel {display: flex;align-items: stretch;justify-content: center;background-color: white;position: relative;}#sk-container-id-1 div.sk-item::before, #sk-container-id-1 div.sk-parallel-item::before {content: \"\";position: absolute;border-left: 1px solid gray;box-sizing: border-box;top: 0;bottom: 0;left: 50%;z-index: -1;}#sk-container-id-1 div.sk-parallel-item {display: flex;flex-direction: column;z-index: 1;position: relative;background-color: white;}#sk-container-id-1 div.sk-parallel-item:first-child::after {align-self: flex-end;width: 50%;}#sk-container-id-1 div.sk-parallel-item:last-child::after {align-self: flex-start;width: 50%;}#sk-container-id-1 div.sk-parallel-item:only-child::after {width: 0;}#sk-container-id-1 div.sk-dashed-wrapped {border: 1px dashed gray;margin: 0 0.4em 0.5em 0.4em;box-sizing: border-box;padding-bottom: 0.4em;background-color: white;}#sk-container-id-1 div.sk-label label {font-family: monospace;font-weight: bold;display: inline-block;line-height: 1.2em;}#sk-container-id-1 div.sk-label-container {text-align: center;}#sk-container-id-1 div.sk-container {/* jupyter's `normalize.less` sets `[hidden] { display: none; }` but bootstrap.min.css set `[hidden] { display: none !important; }` so we also need the `!important` here to be able to override the default hidden behavior on the sphinx rendered scikit-learn.org. See: https://github.com/scikit-learn/scikit-learn/issues/21755 */display: inline-block !important;position: relative;}#sk-container-id-1 div.sk-text-repr-fallback {display: none;}</style><div id=\"sk-container-id-1\" class=\"sk-top-container\"><div class=\"sk-text-repr-fallback\"><pre>Pipeline(steps=[(&#x27;under&#x27;, RandomUnderSampler()),\n",
       "                (&#x27;model&#x27;, DecisionTreeClassifier())])</pre><b>In a Jupyter environment, please rerun this cell to show the HTML representation or trust the notebook. <br />On GitHub, the HTML representation is unable to render, please try loading this page with nbviewer.org.</b></div><div class=\"sk-container\" hidden><div class=\"sk-item sk-dashed-wrapped\"><div class=\"sk-label-container\"><div class=\"sk-label sk-toggleable\"><input class=\"sk-toggleable__control sk-hidden--visually\" id=\"sk-estimator-id-1\" type=\"checkbox\" ><label for=\"sk-estimator-id-1\" class=\"sk-toggleable__label sk-toggleable__label-arrow\">Pipeline</label><div class=\"sk-toggleable__content\"><pre>Pipeline(steps=[(&#x27;under&#x27;, RandomUnderSampler()),\n",
       "                (&#x27;model&#x27;, DecisionTreeClassifier())])</pre></div></div></div><div class=\"sk-serial\"><div class=\"sk-item\"><div class=\"sk-estimator sk-toggleable\"><input class=\"sk-toggleable__control sk-hidden--visually\" id=\"sk-estimator-id-2\" type=\"checkbox\" ><label for=\"sk-estimator-id-2\" class=\"sk-toggleable__label sk-toggleable__label-arrow\">RandomUnderSampler</label><div class=\"sk-toggleable__content\"><pre>RandomUnderSampler()</pre></div></div></div><div class=\"sk-item\"><div class=\"sk-estimator sk-toggleable\"><input class=\"sk-toggleable__control sk-hidden--visually\" id=\"sk-estimator-id-3\" type=\"checkbox\" ><label for=\"sk-estimator-id-3\" class=\"sk-toggleable__label sk-toggleable__label-arrow\">DecisionTreeClassifier</label><div class=\"sk-toggleable__content\"><pre>DecisionTreeClassifier()</pre></div></div></div></div></div></div></div>"
      ],
      "text/plain": [
       "Pipeline(steps=[('under', RandomUnderSampler()),\n",
       "                ('model', DecisionTreeClassifier())])"
      ]
     },
     "execution_count": 195,
     "metadata": {},
     "output_type": "execute_result"
    }
   ],
   "source": [
    "pipeline.fit(X_train,y_train)"
   ]
  },
  {
   "cell_type": "markdown",
   "id": "52418930-b543-46e9-9dcf-5aff9bbd8f40",
   "metadata": {},
   "source": []
  },
  {
   "cell_type": "markdown",
   "id": "52b3a4ae-4647-4a1e-8fbd-0126c1704cf6",
   "metadata": {},
   "source": [
    "### Making the Prediction"
   ]
  },
  {
   "cell_type": "code",
   "execution_count": 214,
   "id": "5bd2aa92-049b-4c43-8c6d-7f92c53e5c9e",
   "metadata": {},
   "outputs": [
    {
     "data": {
      "text/plain": [
       "array([1, 1, 1, ..., 1, 1, 0], dtype=int64)"
      ]
     },
     "execution_count": 214,
     "metadata": {},
     "output_type": "execute_result"
    }
   ],
   "source": [
    "pipepred = pipeline.predict(X_test)\n",
    "pipepred"
   ]
  },
  {
   "cell_type": "markdown",
   "id": "9d2bc918-ebe0-4b38-bf94-0c99b6ea3ada",
   "metadata": {},
   "source": []
  },
  {
   "cell_type": "markdown",
   "id": "e0bd6f3b-fbb8-444f-bf82-bfb09502dfe4",
   "metadata": {},
   "source": [
    "### Model Evaluation"
   ]
  },
  {
   "cell_type": "code",
   "execution_count": 216,
   "id": "a2353c4e-8cdf-471b-a76f-f72838617b6b",
   "metadata": {},
   "outputs": [],
   "source": [
    "from sklearn.metrics import classification_report, accuracy_score, precision_score, recall_score, f1_score, confusion_matrix"
   ]
  },
  {
   "cell_type": "code",
   "execution_count": 218,
   "id": "80d288d6-5f88-4394-8ad0-cf5a958c5b12",
   "metadata": {},
   "outputs": [
    {
     "name": "stdout",
     "output_type": "stream",
     "text": [
      "Model Results:\n",
      "Accuracy score: 0.8975903614457831\n",
      "Precision score: 0.8315217391304348\n",
      "Recall: 0.9962790697674418\n",
      "F1 Score: 0.9064748201438849\n"
     ]
    }
   ],
   "source": [
    "accuracy = accuracy_score(y_test,pipepred)\n",
    "conf_matrix = confusion_matrix(y_test,pipepred)\n",
    "precision = precision_score(y_test,pipepred)\n",
    "recall = recall_score(y_test,pipepred)\n",
    "f1_score = f1_score(y_test,pipepred)\n",
    "print(\"Model Results:\")\n",
    "print(\"Accuracy score:\", accuracy)\n",
    "print(\"Precision score:\", precision)\n",
    "print(\"Recall:\", recall)\n",
    "print(\"F1 Score:\", f1_score)"
   ]
  },
  {
   "cell_type": "code",
   "execution_count": 220,
   "id": "b069953e-e4a3-4626-beb9-47458f055caf",
   "metadata": {},
   "outputs": [
    {
     "name": "stdout",
     "output_type": "stream",
     "text": [
      "confusion Matrix : [[ 866  217]\n",
      " [   4 1071]]\n"
     ]
    }
   ],
   "source": [
    "print('confusion Matrix :',conf_matrix)"
   ]
  },
  {
   "cell_type": "code",
   "execution_count": 232,
   "id": "f1dbae43-54f0-4d3f-891f-ea7ef0dcd7ba",
   "metadata": {},
   "outputs": [
    {
     "name": "stdout",
     "output_type": "stream",
     "text": [
      "              precision    recall  f1-score   support\n",
      "\n",
      "           0       1.00      0.80      0.89      1083\n",
      "           1       0.83      1.00      0.91      1075\n",
      "\n",
      "    accuracy                           0.90      2158\n",
      "   macro avg       0.91      0.90      0.90      2158\n",
      "weighted avg       0.91      0.90      0.90      2158\n",
      "\n"
     ]
    }
   ],
   "source": [
    "print(classification_report(y_test,pipepred))"
   ]
  },
  {
   "cell_type": "markdown",
   "id": "df58c79b-6709-4641-beb4-015633ad5d86",
   "metadata": {},
   "source": [
    "#### Conclusion"
   ]
  },
  {
   "cell_type": "markdown",
   "id": "ce624812-e12c-4594-a5e0-2192bfd37beb",
   "metadata": {},
   "source": [
    "##### The model usin DECISION TREE Chas high precision and recall for both outcomes, and has an accuracy of 0.90, which beats the baseline."
   ]
  },
  {
   "cell_type": "code",
   "execution_count": null,
   "id": "95799ba8-e097-4f8a-86a2-2889135c81ec",
   "metadata": {},
   "outputs": [],
   "source": []
  }
 ],
 "metadata": {
  "kernelspec": {
   "display_name": "Python 3 (ipykernel)",
   "language": "python",
   "name": "python3"
  },
  "language_info": {
   "codemirror_mode": {
    "name": "ipython",
    "version": 3
   },
   "file_extension": ".py",
   "mimetype": "text/x-python",
   "name": "python",
   "nbconvert_exporter": "python",
   "pygments_lexer": "ipython3",
   "version": "3.11.7"
  }
 },
 "nbformat": 4,
 "nbformat_minor": 5
}
